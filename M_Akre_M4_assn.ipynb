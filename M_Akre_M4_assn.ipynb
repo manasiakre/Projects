{
 "cells": [
  {
   "cell_type": "markdown",
   "metadata": {},
   "source": [
    "## Analysis of Flight Data\n",
    "\n",
    "### Introduction\n",
    "\n",
    "Travelling by flight is one of the fastest ways of reaching destinations that are far away. Worldwide, it is the third most widely used mode of transport. But as the volume of air travel grows, so does the list of problems, the most significant of which is a flight delay. While it may not seem like much, a flight delay can cause a lot of issues to not only passengers but the airline operators as well. The concept of 'value of time' is of significance here for both parties and delays can severely affect that. In short, the value of time refers to how much a person can save on time when everything is done on a timely basis. However, delays can cause a hindrance in this. For example, if we assume $47 per hour* is the average value of a passenger's time, flight delays can cost air travelers billions of dollars (Source - https://www.airlines.org/dataset/per-minute-cost-of-delays-to-u-s-airlines/#). \n",
    "\n",
    "It is important to find the cause behind the delay to find a solution for it. In this research, this is exactly what we will be doing. We have a set of data with various attributes related to flights and air travel. We will be using this data to answer our research questions. \n",
    "\n",
    "We will begin by importing the data."
   ]
  },
  {
   "cell_type": "code",
   "execution_count": 6,
   "metadata": {},
   "outputs": [
    {
     "name": "stdout",
     "output_type": "stream",
     "text": [
      "       Year  Month  DayofMonth  DayOfWeek  DepTime  ArrTime UniqueCarrier  \\\n",
      "0      2011      1           1          6   1400.0   1500.0            AA   \n",
      "1      2011      1           2          7   1401.0   1501.0            AA   \n",
      "2      2011      1           3          1   1352.0   1502.0            AA   \n",
      "3      2011      1           4          2   1403.0   1513.0            AA   \n",
      "4      2011      1           5          3   1405.0   1507.0            AA   \n",
      "...     ...    ...         ...        ...      ...      ...           ...   \n",
      "19995  2011      2          25          5   1126.0   1333.0            CO   \n",
      "19996  2011      2          25          5    941.0   1111.0            CO   \n",
      "19997  2011      2          25          5    722.0    948.0            CO   \n",
      "19998  2011      2          25          5   1909.0   2216.0            CO   \n",
      "19999  2011      2          25          5   1255.0   1553.0            CO   \n",
      "\n",
      "       FlightNum TailNum  ActualElapsedTime  ...  ArrDelay  DepDelay  Origin  \\\n",
      "0            428  N576AA               60.0  ...     -10.0       0.0     IAH   \n",
      "1            428  N557AA               60.0  ...      -9.0       1.0     IAH   \n",
      "2            428  N541AA               70.0  ...      -8.0      -8.0     IAH   \n",
      "3            428  N403AA               70.0  ...       3.0       3.0     IAH   \n",
      "4            428  N492AA               62.0  ...      -3.0       5.0     IAH   \n",
      "...          ...     ...                ...  ...       ...       ...     ...   \n",
      "19995       1719  N19621              187.0  ...       8.0      -4.0     IAH   \n",
      "19996       1723  N37298              210.0  ...       0.0      11.0     IAH   \n",
      "19997       1746  N37408              146.0  ...     -17.0      -3.0     IAH   \n",
      "19998       1748  N27239              127.0  ...     -10.0      12.0     IAH   \n",
      "19999       1757  N14604              118.0  ...      -3.0       5.0     IAH   \n",
      "\n",
      "      Dest Distance  TaxiIn  TaxiOut  Cancelled  CancellationCode Diverted  \n",
      "0      DFW      224     7.0     13.0          0               NaN        0  \n",
      "1      DFW      224     6.0      9.0          0               NaN        0  \n",
      "2      DFW      224     5.0     17.0          0               NaN        0  \n",
      "3      DFW      224     9.0     22.0          0               NaN        0  \n",
      "4      DFW      224     9.0      9.0          0               NaN        0  \n",
      "...    ...      ...     ...      ...        ...               ...      ...  \n",
      "19995  MTJ      926     5.0     30.0          0               NaN        0  \n",
      "19996  ONT     1334     5.0     12.0          0               NaN        0  \n",
      "19997  ORD      925    17.0     14.0          0               NaN        0  \n",
      "19998  FLL      965     6.0     15.0          0               NaN        0  \n",
      "19999  ATL      689    13.0     22.0          0               NaN        0  \n",
      "\n",
      "[20000 rows x 21 columns]\n"
     ]
    }
   ],
   "source": [
    "import pandas as pd\n",
    "\n",
    "filename = \"https://raw.githubusercontent.com/jtopor/DAV-5400/master/Project1/hflights.csv\"\n",
    "airlines = pd.read_csv(filename)\n",
    "print(airlines)"
   ]
  },
  {
   "cell_type": "markdown",
   "metadata": {},
   "source": [
    "#### With the given data, we will now be analyzing the cause of delays for these flights. This will be done based on three parameters:\n",
    "\n",
    "- Origin and Destination airports\n",
    "- Day of the week\n",
    "- Unique carrier\n",
    "\n",
    "But first, we will extract all the columns from the main data for our analysis, which is given below. This table will give us a summary of the required data. I'll be using this table only as a reference, as I've used data from the main table (airlines) for further coding."
   ]
  },
  {
   "cell_type": "code",
   "execution_count": 28,
   "metadata": {
    "scrolled": true
   },
   "outputs": [
    {
     "data": {
      "text/html": [
       "<div>\n",
       "<style scoped>\n",
       "    .dataframe tbody tr th:only-of-type {\n",
       "        vertical-align: middle;\n",
       "    }\n",
       "\n",
       "    .dataframe tbody tr th {\n",
       "        vertical-align: top;\n",
       "    }\n",
       "\n",
       "    .dataframe thead th {\n",
       "        text-align: right;\n",
       "    }\n",
       "</style>\n",
       "<table border=\"1\" class=\"dataframe\">\n",
       "  <thead>\n",
       "    <tr style=\"text-align: right;\">\n",
       "      <th></th>\n",
       "      <th>DayOfWeek</th>\n",
       "      <th>DepDelay</th>\n",
       "      <th>ArrDelay</th>\n",
       "      <th>Origin</th>\n",
       "      <th>Dest</th>\n",
       "      <th>UniqueCarrier</th>\n",
       "    </tr>\n",
       "  </thead>\n",
       "  <tbody>\n",
       "    <tr>\n",
       "      <th>0</th>\n",
       "      <td>6</td>\n",
       "      <td>0.0</td>\n",
       "      <td>-10.0</td>\n",
       "      <td>IAH</td>\n",
       "      <td>DFW</td>\n",
       "      <td>AA</td>\n",
       "    </tr>\n",
       "    <tr>\n",
       "      <th>1</th>\n",
       "      <td>7</td>\n",
       "      <td>1.0</td>\n",
       "      <td>-9.0</td>\n",
       "      <td>IAH</td>\n",
       "      <td>DFW</td>\n",
       "      <td>AA</td>\n",
       "    </tr>\n",
       "    <tr>\n",
       "      <th>2</th>\n",
       "      <td>1</td>\n",
       "      <td>-8.0</td>\n",
       "      <td>-8.0</td>\n",
       "      <td>IAH</td>\n",
       "      <td>DFW</td>\n",
       "      <td>AA</td>\n",
       "    </tr>\n",
       "    <tr>\n",
       "      <th>3</th>\n",
       "      <td>2</td>\n",
       "      <td>3.0</td>\n",
       "      <td>3.0</td>\n",
       "      <td>IAH</td>\n",
       "      <td>DFW</td>\n",
       "      <td>AA</td>\n",
       "    </tr>\n",
       "    <tr>\n",
       "      <th>4</th>\n",
       "      <td>3</td>\n",
       "      <td>5.0</td>\n",
       "      <td>-3.0</td>\n",
       "      <td>IAH</td>\n",
       "      <td>DFW</td>\n",
       "      <td>AA</td>\n",
       "    </tr>\n",
       "    <tr>\n",
       "      <th>5</th>\n",
       "      <td>4</td>\n",
       "      <td>-1.0</td>\n",
       "      <td>-7.0</td>\n",
       "      <td>IAH</td>\n",
       "      <td>DFW</td>\n",
       "      <td>AA</td>\n",
       "    </tr>\n",
       "    <tr>\n",
       "      <th>6</th>\n",
       "      <td>5</td>\n",
       "      <td>-1.0</td>\n",
       "      <td>-1.0</td>\n",
       "      <td>IAH</td>\n",
       "      <td>DFW</td>\n",
       "      <td>AA</td>\n",
       "    </tr>\n",
       "    <tr>\n",
       "      <th>7</th>\n",
       "      <td>6</td>\n",
       "      <td>-5.0</td>\n",
       "      <td>-16.0</td>\n",
       "      <td>IAH</td>\n",
       "      <td>DFW</td>\n",
       "      <td>AA</td>\n",
       "    </tr>\n",
       "    <tr>\n",
       "      <th>8</th>\n",
       "      <td>7</td>\n",
       "      <td>43.0</td>\n",
       "      <td>44.0</td>\n",
       "      <td>IAH</td>\n",
       "      <td>DFW</td>\n",
       "      <td>AA</td>\n",
       "    </tr>\n",
       "    <tr>\n",
       "      <th>9</th>\n",
       "      <td>1</td>\n",
       "      <td>43.0</td>\n",
       "      <td>43.0</td>\n",
       "      <td>IAH</td>\n",
       "      <td>DFW</td>\n",
       "      <td>AA</td>\n",
       "    </tr>\n",
       "  </tbody>\n",
       "</table>\n",
       "</div>"
      ],
      "text/plain": [
       "   DayOfWeek  DepDelay  ArrDelay Origin Dest UniqueCarrier\n",
       "0          6       0.0     -10.0    IAH  DFW            AA\n",
       "1          7       1.0      -9.0    IAH  DFW            AA\n",
       "2          1      -8.0      -8.0    IAH  DFW            AA\n",
       "3          2       3.0       3.0    IAH  DFW            AA\n",
       "4          3       5.0      -3.0    IAH  DFW            AA\n",
       "5          4      -1.0      -7.0    IAH  DFW            AA\n",
       "6          5      -1.0      -1.0    IAH  DFW            AA\n",
       "7          6      -5.0     -16.0    IAH  DFW            AA\n",
       "8          7      43.0      44.0    IAH  DFW            AA\n",
       "9          1      43.0      43.0    IAH  DFW            AA"
      ]
     },
     "execution_count": 28,
     "metadata": {},
     "output_type": "execute_result"
    }
   ],
   "source": [
    "# Creating a seperate table of required headings (for reference purpose only)\n",
    "del_air = airlines[[\"DayOfWeek\",\"DepDelay\",\"ArrDelay\",\"Origin\",\"Dest\",\"UniqueCarrier\"]]\n",
    "del_air.head(10)"
   ]
  },
  {
   "cell_type": "markdown",
   "metadata": {},
   "source": [
    "### Delay Analysis\n",
    "\n",
    "The next step is to do a thorough delay analysis for both departure and arrival. For this, we will be using the 'describe' command to get information regarding their mean, median, maximum and minimum values. This is to get the initial understanding of what kind of data I'm dealing with.\n",
    "\n",
    "- Positive values indicate delayed departure/arrival\n",
    "- Negative values indicate prompt departure/arrival"
   ]
  },
  {
   "cell_type": "code",
   "execution_count": 29,
   "metadata": {
    "scrolled": false
   },
   "outputs": [
    {
     "name": "stdout",
     "output_type": "stream",
     "text": [
      "departure delay: count    19785.000000\n",
      "mean         8.297700\n",
      "std         23.934218\n",
      "min        -18.000000\n",
      "25%         -3.000000\n",
      "50%          1.000000\n",
      "75%         10.000000\n",
      "max        780.000000\n",
      "Name: DepDelay, dtype: float64\n",
      "\n",
      "arrival delay: count    19738.000000\n",
      "mean         5.205340\n",
      "std         25.383494\n",
      "min        -49.000000\n",
      "25%         -8.000000\n",
      "50%          0.000000\n",
      "75%         11.000000\n",
      "max        775.000000\n",
      "Name: ArrDelay, dtype: float64\n"
     ]
    }
   ],
   "source": [
    "# for departure\n",
    "d = airlines['DepDelay'].describe()\n",
    "print('departure delay:', d)\n",
    "print()\n",
    "\n",
    "# for arrival\n",
    "a = airlines['ArrDelay'].describe()\n",
    "print('arrival delay:', a)"
   ]
  },
  {
   "cell_type": "markdown",
   "metadata": {},
   "source": [
    "As seen above, the mean departure delay is around 8 mins, and the median is of 1 minute. On the other hand, the mean arrival delay is 5 mins, but the median is 0 minutes. This suggests that most flights do arrive at their expected time of arrival.\n",
    "\n",
    "We will now plot this on a graph to get further clarification."
   ]
  },
  {
   "cell_type": "code",
   "execution_count": 30,
   "metadata": {
    "scrolled": true
   },
   "outputs": [
    {
     "data": {
      "text/plain": [
       "Text(0, 0.5, 'frequency of delay')"
      ]
     },
     "execution_count": 30,
     "metadata": {},
     "output_type": "execute_result"
    },
    {
     "data": {
      "image/png": "[encoded data removed]",
      "text/plain": [
       "<Figure size 432x288 with 1 Axes>"
      ]
     },
     "metadata": {
      "needs_background": "light"
     },
     "output_type": "display_data"
    }
   ],
   "source": [
    "# plotting histogram\n",
    "dh = airlines['DepDelay'].hist(bins=100)\n",
    "dh.set_xlabel(\"delay time\")\n",
    "dh.set_ylabel(\"frequency of delay\")"
   ]
  },
  {
   "cell_type": "markdown",
   "metadata": {},
   "source": [
    "The curve looks centered around the mean 8.29 with a strong right skew as seen in the figure above. There appears to be at least 1 outlier as the histogram ends at 800. This can also be confirmed by the summary stats where the maximum value is 780.\n",
    "\n",
    "Similarly, we'll plot one for arrival delays too."
   ]
  },
  {
   "cell_type": "code",
   "execution_count": 31,
   "metadata": {
    "scrolled": true
   },
   "outputs": [
    {
     "data": {
      "text/plain": [
       "Text(0, 0.5, 'frequency of delay')"
      ]
     },
     "execution_count": 31,
     "metadata": {},
     "output_type": "execute_result"
    },
    {
     "data": {
      "image/png": "[encoded data removed]",
      "text/plain": [
       "<Figure size 432x288 with 1 Axes>"
      ]
     },
     "metadata": {
      "needs_background": "light"
     },
     "output_type": "display_data"
    }
   ],
   "source": [
    "ah = airlines['ArrDelay'].hist(bins=100)\n",
    "ah.set_xlabel(\"delay time\")\n",
    "ah.set_ylabel(\"frequency of delay\")\n",
    "# arrival delay is lower than departure delay."
   ]
  },
  {
   "cell_type": "markdown",
   "metadata": {},
   "source": [
    "The curve looks centered around the mean 0 with a similar right skew as the departure delay. This can also be confirmed by the summary stats where the maximum value is 775.\n",
    "\n",
    "Now that we have a summary, we can make our first observation\n",
    "- the arrival delay is less than the departure delay.\n",
    "\n",
    "Other than that, there is not much we can find out. Hence, we will now move on to testing the parameters.\n",
    "\n",
    "### Testing 'Origin' / 'Destination' delays\n",
    "\n",
    "In this, we will be checking whether the location from where the flight takes off or lands has any effect on the delays. The first step would be to identify how many origin and destination airports are there. For that, we simply count the unique values in the 'Origin' and 'Dest' column of the data."
   ]
  },
  {
   "cell_type": "code",
   "execution_count": 30,
   "metadata": {},
   "outputs": [
    {
     "name": "stdout",
     "output_type": "stream",
     "text": [
      "There are 2 unique origin airport\n",
      "There are 106 unique destination airport\n"
     ]
    }
   ],
   "source": [
    "# origin/destination delays\n",
    "\n",
    "print(\"There are {} unique origin airport\".format(airlines['Origin'].nunique()))\n",
    "print(\"There are {} unique destination airport\".format(airlines['Dest'].nunique()))"
   ]
  },
  {
   "cell_type": "markdown",
   "metadata": {},
   "source": [
    "Both IAH and HOU are airports based in Houston, TX. Hence, we can clearly say that all flights originate from Houston and travel to various destinations.\n",
    "\n",
    "We can now start sorting the origin and destination airports in terms of delay rates. This is to find out if any particular airport plays any role in delays. For this, we will first count the average number of flights for departure locations, and then follow it up by finding the mean delay and the number of flights corresponding to the individual airports."
   ]
  },
  {
   "cell_type": "code",
   "execution_count": 6,
   "metadata": {},
   "outputs": [
    {
     "name": "stdout",
     "output_type": "stream",
     "text": [
      "10000.0\n"
     ]
    },
    {
     "data": {
      "text/html": [
       "<div>\n",
       "<style scoped>\n",
       "    .dataframe tbody tr th:only-of-type {\n",
       "        vertical-align: middle;\n",
       "    }\n",
       "\n",
       "    .dataframe tbody tr th {\n",
       "        vertical-align: top;\n",
       "    }\n",
       "\n",
       "    .dataframe thead th {\n",
       "        text-align: right;\n",
       "    }\n",
       "</style>\n",
       "<table border=\"1\" class=\"dataframe\">\n",
       "  <thead>\n",
       "    <tr style=\"text-align: right;\">\n",
       "      <th></th>\n",
       "      <th>mean delay</th>\n",
       "      <th>count of flights</th>\n",
       "    </tr>\n",
       "    <tr>\n",
       "      <th>Origin</th>\n",
       "      <th></th>\n",
       "      <th></th>\n",
       "    </tr>\n",
       "  </thead>\n",
       "  <tbody>\n",
       "    <tr>\n",
       "      <th>HOU</th>\n",
       "      <td>13.452023</td>\n",
       "      <td>4252</td>\n",
       "    </tr>\n",
       "    <tr>\n",
       "      <th>IAH</th>\n",
       "      <td>6.886757</td>\n",
       "      <td>15533</td>\n",
       "    </tr>\n",
       "  </tbody>\n",
       "</table>\n",
       "</div>"
      ],
      "text/plain": [
       "        mean delay  count of flights\n",
       "Origin                              \n",
       "HOU      13.452023              4252\n",
       "IAH       6.886757             15533"
      ]
     },
     "execution_count": 6,
     "metadata": {},
     "output_type": "execute_result"
    }
   ],
   "source": [
    "# Sorting the origins and destinations in terms of delay rate.\n",
    "\n",
    "# average flights departing the airports\n",
    "om = airlines.Origin.value_counts().mean()\n",
    "print (om) \n",
    "\n",
    "# finding the mean delay and the number of flights seperately for each airport\n",
    "od = airlines[['Origin','DepDelay']].groupby('Origin').agg(['mean','count'])\n",
    "od.columns = ['mean delay','count of flights']\n",
    "od.head()"
   ]
  },
  {
   "cell_type": "markdown",
   "metadata": {},
   "source": [
    "The average number of flights per airport is 1000 per day. HOU, which has around 4200 also has a high delay rate as compared to IAH which seems to be doing great despite handling flights at a far larger volume than HOU.\n",
    "\n",
    "We will now perform the same for arrival airports."
   ]
  },
  {
   "cell_type": "code",
   "execution_count": 7,
   "metadata": {},
   "outputs": [
    {
     "name": "stdout",
     "output_type": "stream",
     "text": [
      "188.67924528301887\n"
     ]
    },
    {
     "data": {
      "text/html": [
       "<div>\n",
       "<style scoped>\n",
       "    .dataframe tbody tr th:only-of-type {\n",
       "        vertical-align: middle;\n",
       "    }\n",
       "\n",
       "    .dataframe tbody tr th {\n",
       "        vertical-align: top;\n",
       "    }\n",
       "\n",
       "    .dataframe thead th {\n",
       "        text-align: right;\n",
       "    }\n",
       "</style>\n",
       "<table border=\"1\" class=\"dataframe\">\n",
       "  <thead>\n",
       "    <tr style=\"text-align: right;\">\n",
       "      <th></th>\n",
       "      <th>mean delay</th>\n",
       "      <th>count of flights</th>\n",
       "    </tr>\n",
       "    <tr>\n",
       "      <th>Dest</th>\n",
       "      <th></th>\n",
       "      <th></th>\n",
       "    </tr>\n",
       "  </thead>\n",
       "  <tbody>\n",
       "    <tr>\n",
       "      <th>ABQ</th>\n",
       "      <td>6.098814</td>\n",
       "      <td>253</td>\n",
       "    </tr>\n",
       "    <tr>\n",
       "      <th>AEX</th>\n",
       "      <td>0.396825</td>\n",
       "      <td>63</td>\n",
       "    </tr>\n",
       "    <tr>\n",
       "      <th>AMA</th>\n",
       "      <td>1.186916</td>\n",
       "      <td>107</td>\n",
       "    </tr>\n",
       "    <tr>\n",
       "      <th>ASE</th>\n",
       "      <td>2.576923</td>\n",
       "      <td>26</td>\n",
       "    </tr>\n",
       "    <tr>\n",
       "      <th>ATL</th>\n",
       "      <td>4.756014</td>\n",
       "      <td>582</td>\n",
       "    </tr>\n",
       "    <tr>\n",
       "      <th>...</th>\n",
       "      <td>...</td>\n",
       "      <td>...</td>\n",
       "    </tr>\n",
       "    <tr>\n",
       "      <th>TUL</th>\n",
       "      <td>5.059524</td>\n",
       "      <td>336</td>\n",
       "    </tr>\n",
       "    <tr>\n",
       "      <th>TUS</th>\n",
       "      <td>0.355932</td>\n",
       "      <td>118</td>\n",
       "    </tr>\n",
       "    <tr>\n",
       "      <th>TYS</th>\n",
       "      <td>3.230769</td>\n",
       "      <td>78</td>\n",
       "    </tr>\n",
       "    <tr>\n",
       "      <th>VPS</th>\n",
       "      <td>1.059701</td>\n",
       "      <td>67</td>\n",
       "    </tr>\n",
       "    <tr>\n",
       "      <th>XNA</th>\n",
       "      <td>0.397590</td>\n",
       "      <td>83</td>\n",
       "    </tr>\n",
       "  </tbody>\n",
       "</table>\n",
       "<p>106 rows × 2 columns</p>\n",
       "</div>"
      ],
      "text/plain": [
       "      mean delay  count of flights\n",
       "Dest                              \n",
       "ABQ     6.098814               253\n",
       "AEX     0.396825                63\n",
       "AMA     1.186916               107\n",
       "ASE     2.576923                26\n",
       "ATL     4.756014               582\n",
       "...          ...               ...\n",
       "TUL     5.059524               336\n",
       "TUS     0.355932               118\n",
       "TYS     3.230769                78\n",
       "VPS     1.059701                67\n",
       "XNA     0.397590                83\n",
       "\n",
       "[106 rows x 2 columns]"
      ]
     },
     "execution_count": 7,
     "metadata": {},
     "output_type": "execute_result"
    }
   ],
   "source": [
    "# average flights arriving at the airports\n",
    "dm = airlines.Dest.value_counts().mean()\n",
    "print (dm)\n",
    "\n",
    "# finding the mean delay and the number of flights seperately for each airport\n",
    "dd = airlines[['Dest','ArrDelay']].groupby('Dest').agg(['mean','count'])\n",
    "dd.columns = ['mean delay','count of flights']\n",
    "dd.head(106)"
   ]
  },
  {
   "cell_type": "markdown",
   "metadata": {},
   "source": [
    "Since the data is too large to be analyzed by simply looking at it, we will instead plot a scatter plot to help us analyze it easily"
   ]
  },
  {
   "cell_type": "code",
   "execution_count": 11,
   "metadata": {
    "scrolled": true
   },
   "outputs": [
    {
     "data": {
      "text/plain": [
       "<AxesSubplot:xlabel='count of flights'>"
      ]
     },
     "execution_count": 11,
     "metadata": {},
     "output_type": "execute_result"
    },
    {
     "data": {
      "image/png": "[encoded data removed]",
      "text/plain": [
       "<Figure size 432x288 with 1 Axes>"
      ]
     },
     "metadata": {
      "needs_background": "light"
     },
     "output_type": "display_data"
    }
   ],
   "source": [
    "dd.plot(x='count of flights', y='mean delay', style='o')"
   ]
  },
  {
   "cell_type": "markdown",
   "metadata": {},
   "source": [
    "From the figure above, we can see that there is no clear association between the count of flights and the mean delay. The mean delay appears to be between 0 and 10. There's higher variability for the mean of flights departing to places with a count less than 200. The mean stabilizes as the count increases.\n",
    "\n",
    "Hence, we have found no clear relation between the departure/arrival locations and the delay of the flights. We cannot make any comments on whether the location has any effect on the delay.\n",
    "\n",
    "We will now test our second parameter.\n",
    "\n",
    "### Testing 'day of the week'\n",
    "\n",
    "In this, we will be checking whether the day of travel has any effect on the delay. For this, we will simply compare the day of the week against the departure delays."
   ]
  },
  {
   "cell_type": "code",
   "execution_count": 8,
   "metadata": {
    "scrolled": true
   },
   "outputs": [
    {
     "data": {
      "text/html": [
       "<div>\n",
       "<style scoped>\n",
       "    .dataframe tbody tr th:only-of-type {\n",
       "        vertical-align: middle;\n",
       "    }\n",
       "\n",
       "    .dataframe tbody tr th {\n",
       "        vertical-align: top;\n",
       "    }\n",
       "\n",
       "    .dataframe thead th {\n",
       "        text-align: right;\n",
       "    }\n",
       "</style>\n",
       "<table border=\"1\" class=\"dataframe\">\n",
       "  <thead>\n",
       "    <tr style=\"text-align: right;\">\n",
       "      <th></th>\n",
       "      <th>mean delay</th>\n",
       "      <th>count of flights</th>\n",
       "    </tr>\n",
       "    <tr>\n",
       "      <th>DayOfWeek</th>\n",
       "      <th></th>\n",
       "      <th></th>\n",
       "    </tr>\n",
       "  </thead>\n",
       "  <tbody>\n",
       "    <tr>\n",
       "      <th>1</th>\n",
       "      <td>10.616804</td>\n",
       "      <td>3523</td>\n",
       "    </tr>\n",
       "    <tr>\n",
       "      <th>2</th>\n",
       "      <td>8.977292</td>\n",
       "      <td>2334</td>\n",
       "    </tr>\n",
       "    <tr>\n",
       "      <th>3</th>\n",
       "      <td>4.589233</td>\n",
       "      <td>2359</td>\n",
       "    </tr>\n",
       "    <tr>\n",
       "      <th>4</th>\n",
       "      <td>8.616561</td>\n",
       "      <td>2681</td>\n",
       "    </tr>\n",
       "    <tr>\n",
       "      <th>5</th>\n",
       "      <td>7.530108</td>\n",
       "      <td>2873</td>\n",
       "    </tr>\n",
       "    <tr>\n",
       "      <th>6</th>\n",
       "      <td>5.931301</td>\n",
       "      <td>2722</td>\n",
       "    </tr>\n",
       "    <tr>\n",
       "      <th>7</th>\n",
       "      <td>10.357729</td>\n",
       "      <td>3293</td>\n",
       "    </tr>\n",
       "  </tbody>\n",
       "</table>\n",
       "</div>"
      ],
      "text/plain": [
       "           mean delay  count of flights\n",
       "DayOfWeek                              \n",
       "1           10.616804              3523\n",
       "2            8.977292              2334\n",
       "3            4.589233              2359\n",
       "4            8.616561              2681\n",
       "5            7.530108              2873\n",
       "6            5.931301              2722\n",
       "7           10.357729              3293"
      ]
     },
     "execution_count": 8,
     "metadata": {},
     "output_type": "execute_result"
    }
   ],
   "source": [
    "# comparing days of the week by average delay\n",
    "week = airlines[['DayOfWeek','DepDelay']].groupby('DayOfWeek').agg(['mean','count'])\n",
    "week.columns = ['mean delay','count of flights']\n",
    "week.head(7)"
   ]
  },
  {
   "cell_type": "markdown",
   "metadata": {},
   "source": [
    "The above data shows that Most flights are on Monday and Sunday. These are also the days that have the most average delays. Hence, as the frequency of flights increase, so do delays.\n",
    "\n",
    "Airports are usually full close to or over the end of the weekends as that's when most people prefer to travel due to various reasons such as going back home after a business trip or at the end of a leisure trip. This is probably why Sunday and Monday have the highest count of flights (Source - https://simpleflying.com/best-days-to-fly/). \n",
    "\n",
    "Now that we've done this, we can move on to the final parameter.\n",
    "\n",
    "### Testing 'UniqueCarrier'\n",
    "\n",
    "The next thing we want to check is that whether the carriers have any effect on the delay of the flight. To do this, we first need to identify how many carriers are there in the data. This can be done by counting the number of unique carriers."
   ]
  },
  {
   "cell_type": "code",
   "execution_count": 13,
   "metadata": {},
   "outputs": [
    {
     "name": "stdout",
     "output_type": "stream",
     "text": [
      "There are 14 unique carriers\n"
     ]
    }
   ],
   "source": [
    "# finding number of unique carriers\n",
    "\n",
    "print(\"There are {} unique carriers\".format(airlines['UniqueCarrier'].nunique()))"
   ]
  },
  {
   "cell_type": "markdown",
   "metadata": {},
   "source": [
    "Once we've found the number of unique carriers, we can go ahead with finding the mean delay and the count of flights corresponding to the carriers. This will help us know how each carrier is performing in handling the delays."
   ]
  },
  {
   "cell_type": "code",
   "execution_count": 4,
   "metadata": {},
   "outputs": [
    {
     "data": {
      "text/html": [
       "<div>\n",
       "<style scoped>\n",
       "    .dataframe tbody tr th:only-of-type {\n",
       "        vertical-align: middle;\n",
       "    }\n",
       "\n",
       "    .dataframe tbody tr th {\n",
       "        vertical-align: top;\n",
       "    }\n",
       "\n",
       "    .dataframe thead th {\n",
       "        text-align: right;\n",
       "    }\n",
       "</style>\n",
       "<table border=\"1\" class=\"dataframe\">\n",
       "  <thead>\n",
       "    <tr style=\"text-align: right;\">\n",
       "      <th></th>\n",
       "      <th>UniqueCarrier</th>\n",
       "      <th>mean</th>\n",
       "      <th>count</th>\n",
       "    </tr>\n",
       "  </thead>\n",
       "  <tbody>\n",
       "    <tr>\n",
       "      <th>0</th>\n",
       "      <td>EV</td>\n",
       "      <td>21.742268</td>\n",
       "      <td>97</td>\n",
       "    </tr>\n",
       "    <tr>\n",
       "      <th>1</th>\n",
       "      <td>B6</td>\n",
       "      <td>18.234043</td>\n",
       "      <td>94</td>\n",
       "    </tr>\n",
       "    <tr>\n",
       "      <th>2</th>\n",
       "      <td>WN</td>\n",
       "      <td>14.394336</td>\n",
       "      <td>3672</td>\n",
       "    </tr>\n",
       "    <tr>\n",
       "      <th>3</th>\n",
       "      <td>MQ</td>\n",
       "      <td>9.901538</td>\n",
       "      <td>325</td>\n",
       "    </tr>\n",
       "    <tr>\n",
       "      <th>4</th>\n",
       "      <td>CO</td>\n",
       "      <td>9.881251</td>\n",
       "      <td>6779</td>\n",
       "    </tr>\n",
       "    <tr>\n",
       "      <th>5</th>\n",
       "      <td>DL</td>\n",
       "      <td>8.033613</td>\n",
       "      <td>238</td>\n",
       "    </tr>\n",
       "    <tr>\n",
       "      <th>6</th>\n",
       "      <td>OO</td>\n",
       "      <td>6.692197</td>\n",
       "      <td>692</td>\n",
       "    </tr>\n",
       "    <tr>\n",
       "      <th>7</th>\n",
       "      <td>F9</td>\n",
       "      <td>6.306452</td>\n",
       "      <td>62</td>\n",
       "    </tr>\n",
       "    <tr>\n",
       "      <th>8</th>\n",
       "      <td>AA</td>\n",
       "      <td>5.610672</td>\n",
       "      <td>506</td>\n",
       "    </tr>\n",
       "    <tr>\n",
       "      <th>9</th>\n",
       "      <td>AS</td>\n",
       "      <td>4.559322</td>\n",
       "      <td>59</td>\n",
       "    </tr>\n",
       "    <tr>\n",
       "      <th>10</th>\n",
       "      <td>FL</td>\n",
       "      <td>3.939850</td>\n",
       "      <td>133</td>\n",
       "    </tr>\n",
       "    <tr>\n",
       "      <th>11</th>\n",
       "      <td>UA</td>\n",
       "      <td>3.909091</td>\n",
       "      <td>99</td>\n",
       "    </tr>\n",
       "    <tr>\n",
       "      <th>12</th>\n",
       "      <td>XE</td>\n",
       "      <td>3.846657</td>\n",
       "      <td>6730</td>\n",
       "    </tr>\n",
       "    <tr>\n",
       "      <th>13</th>\n",
       "      <td>US</td>\n",
       "      <td>1.494983</td>\n",
       "      <td>299</td>\n",
       "    </tr>\n",
       "  </tbody>\n",
       "</table>\n",
       "</div>"
      ],
      "text/plain": [
       "   UniqueCarrier       mean  count\n",
       "0             EV  21.742268     97\n",
       "1             B6  18.234043     94\n",
       "2             WN  14.394336   3672\n",
       "3             MQ   9.901538    325\n",
       "4             CO   9.881251   6779\n",
       "5             DL   8.033613    238\n",
       "6             OO   6.692197    692\n",
       "7             F9   6.306452     62\n",
       "8             AA   5.610672    506\n",
       "9             AS   4.559322     59\n",
       "10            FL   3.939850    133\n",
       "11            UA   3.909091     99\n",
       "12            XE   3.846657   6730\n",
       "13            US   1.494983    299"
      ]
     },
     "execution_count": 4,
     "metadata": {},
     "output_type": "execute_result"
    }
   ],
   "source": [
    "# finding the mean delay and count of flights for UniqueCarrier\n",
    "\n",
    "carrier = airlines[['UniqueCarrier','DepDelay']].groupby('UniqueCarrier').agg(['mean','count']).sort_values(by=('DepDelay','mean'), ascending=False).reset_index()\n",
    "carrier.columns = ['UniqueCarrier','mean','count']\n",
    "carrier['UniqueCarrier'] = carrier['UniqueCarrier'].astype('object') # converting 'UniqueCarrier' type from string to object\n",
    "carrier.head(14)"
   ]
  },
  {
   "cell_type": "markdown",
   "metadata": {},
   "source": [
    "At the first look, we can see that EV, B6, and WN have a very high mean delay. Out of these three, only WN's case can be justified as it has a high count of flights too. EV and B6, on the other hand, seem to have high delays despite having an extremely low count of flights. Even F9 and AS seem to be doing not so well, especially when compared to values below them such as XE and US.\n",
    "\n",
    "To gain further clarification, we will plot this data."
   ]
  },
  {
   "cell_type": "code",
   "execution_count": 8,
   "metadata": {},
   "outputs": [
    {
     "data": {
      "text/plain": [
       "<AxesSubplot:xlabel='UniqueCarrier'>"
      ]
     },
     "execution_count": 8,
     "metadata": {},
     "output_type": "execute_result"
    },
    {
     "data": {
      "image/png": "[encoded data removed]",
      "text/plain": [
       "<Figure size 432x288 with 1 Axes>"
      ]
     },
     "metadata": {
      "needs_background": "light"
     },
     "output_type": "display_data"
    }
   ],
   "source": [
    "# plotting scatter plot for UniqueCarrier\n",
    "\n",
    "carrier.plot(x='UniqueCarrier', y='mean', style='o')"
   ]
  },
  {
   "cell_type": "markdown",
   "metadata": {},
   "source": [
    "Thus, we can see that the type carrier does seem to have a significant impact on the delay. This can be due to some interior issues within the management of the carrier operators, like taking too much time in cleaning the flight once a trip is over, not doing maintenance work on time, not having enough staff to handle required functions, etc.\n",
    "\n",
    "### Final Analysis\n",
    "\n",
    "With all the required parameters tested, the final analysis is as follows:\n",
    "\n",
    "- Overall, the arrival delay is less than the departure delay\n",
    "- There's no clear relation between the departure/arrival airports and the delay of the flights.\n",
    "- Monday and Sunday are the busiest time for flights on average, and hence most delays occurring on these days\n",
    "- Type of carrier seems to have a significant impact on the delay.\n",
    "\n",
    "### Next Steps\n",
    "\n",
    "We can use the analysis above to dive deeper into identifying the underlying problems and finding possible solutions for them. For example, further studies would be required to find out why a particular carrier is having problems in beginning their journey on time. This may involve talking to the staff, observing their daily routine, find out if there are any unnecessary actions and remove them to save time, etc.\n",
    "\n",
    "\n",
    "### Sources -\n",
    "\n",
    "- Codes source - https://towardsdatascience.com/a-practical-guide-for-exploratory-data-analysis-flight-delays-f8a713ef7121\n",
    "- Additional codes - https://stackoverflow.com/questions/42832675/setting-axis-labels-for-histogram-pandas\n",
    "- Additional codes (graphs) - M4 lecture notes\n",
    "- Additional research - https://medium.com/analytics-vidhya/modeling-flight-delays-through-u-s-flight-data-2f0b3d7e2c89"
   ]
  }
 ],
 "metadata": {
  "kernelspec": {
   "display_name": "Python 3",
   "language": "python",
   "name": "python3"
  },
  "language_info": {
   "codemirror_mode": {
    "name": "ipython",
    "version": 3
   },
   "file_extension": ".py",
   "mimetype": "text/x-python",
   "name": "python",
   "nbconvert_exporter": "python",
   "pygments_lexer": "ipython3",
   "version": "3.8.5"
  }
 },
 "nbformat": 4,
 "nbformat_minor": 4
}
