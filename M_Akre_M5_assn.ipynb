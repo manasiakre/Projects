{
 "cells": [
  {
   "cell_type": "markdown",
   "metadata": {},
   "source": [
    "### DAV 5400 Module 5 Assignment \n",
    "\n",
    "In this assignment, we're working with data about diamonds. Each section has the question that is being addressed, followed by a short explanation (ana analysis, wherever required).\n",
    "\n",
    "We'll begin by importing the data into the notebook."
   ]
  },
  {
   "cell_type": "code",
   "execution_count": 1,
   "metadata": {},
   "outputs": [
    {
     "name": "stdout",
     "output_type": "stream",
     "text": [
      "       carat        cut color clarity  depth  table  price     x     y     z\n",
      "0       0.23      Ideal     E     SI2   61.5   55.0    326  3.95  3.98  2.43\n",
      "1       0.21    Premium     E     SI1   59.8   61.0    326  3.89  3.84  2.31\n",
      "2       0.23       Good     E     VS1   56.9   65.0    327  4.05  4.07  2.31\n",
      "3       0.29    Premium     I     VS2   62.4   58.0    334  4.20  4.23  2.63\n",
      "4       0.31       Good     J     SI2   63.3   58.0    335  4.34  4.35  2.75\n",
      "...      ...        ...   ...     ...    ...    ...    ...   ...   ...   ...\n",
      "53935   0.72      Ideal     D     SI1   60.8   57.0   2757  5.75  5.76  3.50\n",
      "53936   0.72       Good     D     SI1   63.1   55.0   2757  5.69  5.75  3.61\n",
      "53937   0.70  Very Good     D     SI1   62.8   60.0   2757  5.66  5.68  3.56\n",
      "53938   0.86    Premium     H     SI2   61.0   58.0   2757  6.15  6.12  3.74\n",
      "53939   0.75      Ideal     D     SI2   62.2   55.0   2757  5.83  5.87  3.64\n",
      "\n",
      "[53940 rows x 10 columns]\n"
     ]
    }
   ],
   "source": [
    "import pandas as pd\n",
    "import numpy as np\n",
    "\n",
    "filename = \"https://raw.githubusercontent.com/manasiakre/DAV__5400/main/diamonds.xls\"\n",
    "diamond = pd.read_csv(filename)\n",
    "print(diamond)"
   ]
  },
  {
   "cell_type": "markdown",
   "metadata": {},
   "source": [
    "Using the data above, we'll now answer the following questions.\n",
    "\n",
    "#### 1. What proportion of diamonds are between .30 and 1.08 carats?\n",
    "\n",
    "- For this, the first step would be to calculate the number of values that lie between 0.30 and 1.08 in the 'carat' column. For this, we can use 'loc' to get the required range and follow it by 'shape' to get the count of diamonds in the range.\n",
    "\n",
    "- Since we need to calculate the proportion, the next step would be to find the total number of diamonds, which is attained by simply calculating the number of rows in the carat column.\n",
    "\n",
    "- Proportion is calculated by using the simple math formula i.e. (x/y)*100. This will give us the proportion of diamonds that lie in the range compared to the total number of diamonds."
   ]
  },
  {
   "cell_type": "code",
   "execution_count": 25,
   "metadata": {},
   "outputs": [
    {
     "name": "stdout",
     "output_type": "stream",
     "text": [
      "total no. of diamonds between 0.30 & 1.08 carats: 2850\n",
      "total no. of diamonds: 53940\n",
      "proportion: 5.2836484983314795\n"
     ]
    }
   ],
   "source": [
    "# calculate the number of values that lie between 0.30 and 1.08.\n",
    "p = diamond.set_index('carat').loc[[0.30,1.08]].shape[0]\n",
    "print('total no. of diamonds between 0.30 & 1.08 carats:', p)\n",
    "\n",
    "#calculate total no. of diamonds\n",
    "n = diamond.set_index('carat').shape[0]\n",
    "print('total no. of diamonds:', n)\n",
    "\n",
    "# Source - https://stackoverflow.com/questions/53147206/using-pandas-to-find-length-of-a-column-with-given-range\n",
    "\n",
    "#calculate proportion \n",
    "proportion = ((p/n)*100)\n",
    "print('proportion:', proportion)"
   ]
  },
  {
   "cell_type": "markdown",
   "metadata": {},
   "source": [
    "#### 2. How many of the diamonds have equal x and y dimensions?\n",
    "\n",
    "- The first thing to do is to set the condition where we can check whether values in column x is equal to column y. This can be done by comparing the two columns using '==' operator. \n",
    "- In the same line, add 'len' in the beginning to get the length (count) of the occurences where x is equal to y."
   ]
  },
  {
   "cell_type": "code",
   "execution_count": 18,
   "metadata": {},
   "outputs": [
    {
     "data": {
      "text/plain": [
       "17"
      ]
     },
     "execution_count": 18,
     "metadata": {},
     "output_type": "execute_result"
    }
   ],
   "source": [
    "len(diamond[diamond['x'] == diamond['y']])"
   ]
  },
  {
   "cell_type": "markdown",
   "metadata": {},
   "source": [
    "#### 3. How many of the diamonds have a carat less than the mean carat value?\n",
    "\n",
    "- We'll first find the average carat value, which can be done using 'df[\"columnname\"].mean()'.\n",
    "- We'll then check for the required condition i.e. finding the no. of diamonds with carat value less than the mean, which is done using the same code as Ques 2."
   ]
  },
  {
   "cell_type": "code",
   "execution_count": 26,
   "metadata": {},
   "outputs": [
    {
     "name": "stdout",
     "output_type": "stream",
     "text": [
      "Mean carat:  0.7979397478679852\n",
      "No. of diamonds with carats less than the mean:  31127\n"
     ]
    }
   ],
   "source": [
    "mean_c = diamond['carat'].mean()\n",
    "print(\"Mean carat: \", mean_c)\n",
    "\n",
    "m = len(diamond[diamond['carat'] < mean_c])\n",
    "print(\"No. of diamonds with carats less than the mean: \", m)\n",
    "\n",
    "# Source - https://stackoverflow.com/questions/31037298/pandas-get-column-average-mean"
   ]
  },
  {
   "cell_type": "markdown",
   "metadata": {},
   "source": [
    "#### 4. How many diamonds have a Premium cut or better? \n",
    "\n",
    "- We'll be working with the same code as Ques 2, and will add the 'or' (showcased by the symbol '|' in the code below) operator to put the condition to return only those counts where the diamonds have either premium or ideal cut (since the cuts are ranked in the ascending order and the only cut that is better than premium is 'ideal')"
   ]
  },
  {
   "cell_type": "code",
   "execution_count": 27,
   "metadata": {},
   "outputs": [
    {
     "name": "stdout",
     "output_type": "stream",
     "text": [
      "No. of diamonds with either premium cut or better:  35342\n"
     ]
    }
   ],
   "source": [
    "ip = len(diamond[(diamond['cut'] == 'Premium') | (diamond['cut'] == 'Ideal')])\n",
    "print(\"No. of diamonds with either premium cut or better: \", ip)"
   ]
  },
  {
   "cell_type": "markdown",
   "metadata": {},
   "source": [
    "#### 5. Which diamond has the highest price per carat? What is its value?\n",
    "\n",
    "- For this, we'll first have to find the price per carat value for all diamonds. This can be done by simply dividing price by carat.\n",
    "- Onc we have this data, we can now locate the diamond that has the highest price per carat value. We can use 'loc' and 'idxmax' that will give us the row label and the location of this diamond. The general format for this will be diamond.loc[row,column], where row values will be taken from price per carat data."
   ]
  },
  {
   "cell_type": "code",
   "execution_count": 54,
   "metadata": {},
   "outputs": [
    {
     "name": "stdout",
     "output_type": "stream",
     "text": [
      "carat           1.04\n",
      "cut        Very Good\n",
      "color              D\n",
      "clarity           IF\n",
      "depth           61.3\n",
      "table             56\n",
      "price          18542\n",
      "x               6.53\n",
      "y               6.55\n",
      "z               4.01\n",
      "Name: 27635, dtype: object\n",
      "Price per carat value(highest):  17828.846153846152\n"
     ]
    }
   ],
   "source": [
    "# find price per carat value for all diamonds\n",
    "cp = diamond['price'] / diamond['carat']\n",
    "\n",
    "# find diamond with highest price per carat value\n",
    "#diamond.loc[row,column] - row taken from ratio column (cp), all columns considered\n",
    "im = diamond.loc[cp.idxmax(),:]\n",
    "mx = cp.max()\n",
    "print(im)\n",
    "print(\"Price per carat value(highest): \", mx)"
   ]
  },
  {
   "cell_type": "markdown",
   "metadata": {},
   "source": [
    "#### 6.  Make a bar plot of the ‘cut’ data.\n",
    "\n",
    "Analysis:\n",
    "- Majority of the diamonds have the ideal cut, followed by premium and very good. The distribution of the frequency is interesting since better cuts are common."
   ]
  },
  {
   "cell_type": "code",
   "execution_count": 40,
   "metadata": {
    "scrolled": true
   },
   "outputs": [
    {
     "data": {
      "text/plain": [
       "Text(0, 0.5, 'frequency')"
      ]
     },
     "execution_count": 40,
     "metadata": {},
     "output_type": "execute_result"
    },
    {
     "data": {
      "image/png": "[encoded data removed]",
      "text/plain": [
       "<Figure size 432x288 with 1 Axes>"
      ]
     },
     "metadata": {
      "needs_background": "light"
     },
     "output_type": "display_data"
    }
   ],
   "source": [
    "bar = diamond['cut'].value_counts().plot(kind = 'bar')\n",
    "bar.set_xlabel(\"cut\")\n",
    "bar.set_ylabel(\"frequency\")"
   ]
  },
  {
   "cell_type": "markdown",
   "metadata": {},
   "source": [
    "#### 7. Make boxplots of the diamond price for each cut.\n",
    "\n",
    "Analysis:\n",
    "- Cut is not a good determiner when comparing the mean price. For example, the mean price of 'Ideal' cut is considerably lower than the other cuts, which is an anomaly since 'Ideal' is the best cut and should be priced higher than the rest. \n",
    "- Maybe other variables such as carat or clarity can give use a better insight into how a price of a diamond is determined."
   ]
  },
  {
   "cell_type": "code",
   "execution_count": 41,
   "metadata": {
    "scrolled": true
   },
   "outputs": [
    {
     "data": {
      "text/plain": [
       "Text(0, 0.5, 'price')"
      ]
     },
     "execution_count": 41,
     "metadata": {},
     "output_type": "execute_result"
    },
    {
     "data": {
      "image/png": "[encoded data removed]",
      "text/plain": [
       "<Figure size 432x288 with 1 Axes>"
      ]
     },
     "metadata": {
      "needs_background": "light"
     },
     "output_type": "display_data"
    }
   ],
   "source": [
    "box = diamond.boxplot(column = 'price', by = 'cut')\n",
    "box.set_xlabel(\"cut\")\n",
    "box.set_ylabel(\"price\")"
   ]
  },
  {
   "cell_type": "markdown",
   "metadata": {},
   "source": [
    "#### 8. Make histograms of the length, width, depth, and total depth attributes.\n",
    "\n",
    "There are four seperate histograms for all the four attributes.\n",
    "\n",
    "Analysis:\n",
    "\n",
    "##### - Histogram x - This shows the length of the diamond.\n",
    "\n",
    "Most of the length values lie between 4 and 5, with a right skew."
   ]
  },
  {
   "cell_type": "code",
   "execution_count": 42,
   "metadata": {
    "scrolled": false
   },
   "outputs": [
    {
     "data": {
      "text/plain": [
       "Text(0, 0.5, 'frequency')"
      ]
     },
     "execution_count": 42,
     "metadata": {},
     "output_type": "execute_result"
    },
    {
     "data": {
      "image/png": "[encoded data removed]",
      "text/plain": [
       "<Figure size 432x288 with 1 Axes>"
      ]
     },
     "metadata": {
      "needs_background": "light"
     },
     "output_type": "display_data"
    }
   ],
   "source": [
    "x = diamond['x'].hist(bins=100)\n",
    "x.set_xlabel(\"length\")\n",
    "x.set_ylabel(\"frequency\")"
   ]
  },
  {
   "cell_type": "markdown",
   "metadata": {},
   "source": [
    "##### - Histogram y - This shows the width of the diamond.\n",
    "\n",
    "Most of the width is centered around 5."
   ]
  },
  {
   "cell_type": "code",
   "execution_count": 43,
   "metadata": {
    "scrolled": false
   },
   "outputs": [
    {
     "data": {
      "text/plain": [
       "Text(0, 0.5, 'frequency')"
      ]
     },
     "execution_count": 43,
     "metadata": {},
     "output_type": "execute_result"
    },
    {
     "data": {
      "image/png": "[encoded data removed]",
      "text/plain": [
       "<Figure size 432x288 with 1 Axes>"
      ]
     },
     "metadata": {
      "needs_background": "light"
     },
     "output_type": "display_data"
    }
   ],
   "source": [
    "y = diamond['y'].hist(bins=100)\n",
    "y.set_xlabel(\"width\")\n",
    "y.set_ylabel(\"frequency\")"
   ]
  },
  {
   "cell_type": "markdown",
   "metadata": {},
   "source": [
    "While both x and y independently can't tell us much, we can probably find some insights into the quality of diamonds in the data by taking x to y ration (i.e. length to width). Every shape of diamond has an ideal range. For example, a round-cut diamond has a length to width ratio between 1.0 - 1.03. \n",
    "\n",
    "From the histogram below, we can see that most values are centered around, showing that most diamonds in the data are somewhat round (if not perfectly), and most do have the ideal length to width ratio.\n",
    "\n",
    "Source - https://www.diamonds.pro/guides/diamond-proportion/"
   ]
  },
  {
   "cell_type": "code",
   "execution_count": 47,
   "metadata": {},
   "outputs": [
    {
     "data": {
      "image/png": "[encoded data removed]",
      "text/plain": [
       "<Figure size 432x288 with 1 Axes>"
      ]
     },
     "metadata": {
      "needs_background": "light"
     },
     "output_type": "display_data"
    }
   ],
   "source": [
    "xy = diamond['x'] / diamond['y']\n",
    "xy_plot = xy.hist(bins=100)"
   ]
  },
  {
   "cell_type": "markdown",
   "metadata": {},
   "source": [
    "##### - Histogram z - This shows the depth of the diamond.\n",
    "\n",
    "For a diamond to look radiant, the depth should neither be too shallow or too deep. It is the depth that is responsible for any refraction of light within the diamond, which is the reason behind its spark.\n",
    "\n",
    "Most of the depth is centered around 3 with a slight right skew. Independently it can't tell us much, but when calculated with x and y (see - depth percentage), it can tell us a lot about the quality of diamonds. "
   ]
  },
  {
   "cell_type": "code",
   "execution_count": 48,
   "metadata": {
    "scrolled": false
   },
   "outputs": [
    {
     "data": {
      "text/plain": [
       "Text(0, 0.5, 'frequency')"
      ]
     },
     "execution_count": 48,
     "metadata": {},
     "output_type": "execute_result"
    },
    {
     "data": {
      "image/png": "[encoded data removed]",
      "text/plain": [
       "<Figure size 432x288 with 1 Axes>"
      ]
     },
     "metadata": {
      "needs_background": "light"
     },
     "output_type": "display_data"
    }
   ],
   "source": [
    "z = diamond['z'].hist(bins=100)\n",
    "z.set_xlabel(\"depth\")\n",
    "z.set_ylabel(\"frequency\")"
   ]
  },
  {
   "cell_type": "markdown",
   "metadata": {},
   "source": [
    "##### - Histogram dep - This shows the total depth percentage of the diamond (calculate by 2 * z / (x + y))\n",
    "\n",
    "The ideal diamond depth percentage varies from shape to shape. For example, for a round diamond, a depth between 59 and 62.6 percent is considered ideal. In the histogram below, most values are centered between 62 and 63, which doesn't tell us much except that most diamonds in the data are not exactly round (which can be confirmed by Ques 2), and that the diamonds have depths that is somewhat within the ideal range.\n",
    "\n",
    "Source - https://www.diamonds.pro/education/diamond-depth-and-table/\n",
    "https://www.withclarity.com/education/diamond-education/diamond-cut/what-is-diamond-depth-or-diamond-education"
   ]
  },
  {
   "cell_type": "code",
   "execution_count": 49,
   "metadata": {
    "scrolled": true
   },
   "outputs": [
    {
     "data": {
      "text/plain": [
       "Text(0, 0.5, 'frequency')"
      ]
     },
     "execution_count": 49,
     "metadata": {},
     "output_type": "execute_result"
    },
    {
     "data": {
      "image/png": "[encoded data removed]",
      "text/plain": [
       "<Figure size 432x288 with 1 Axes>"
      ]
     },
     "metadata": {
      "needs_background": "light"
     },
     "output_type": "display_data"
    }
   ],
   "source": [
    "dep = diamond['depth'].hist(bins=100)\n",
    "dep.set_xlabel(\"depth percent\")\n",
    "dep.set_ylabel(\"frequency\")"
   ]
  },
  {
   "cell_type": "markdown",
   "metadata": {},
   "source": [
    "#### Make a scatter plot of price vs. carat.\n",
    "\n",
    "Analysis:\n",
    "\n",
    "- As carat increases, price increases. \n",
    "- However, price variation too increases as carat increases. After 1 carat, there is high variation in the prices.\n",
    "- Max price doesn't increase after 1 carat"
   ]
  },
  {
   "cell_type": "code",
   "execution_count": 50,
   "metadata": {
    "scrolled": true
   },
   "outputs": [
    {
     "data": {
      "image/png": "[encoded data removed]",
      "text/plain": [
       "<Figure size 432x288 with 1 Axes>"
      ]
     },
     "metadata": {
      "needs_background": "light"
     },
     "output_type": "display_data"
    }
   ],
   "source": [
    "pc = diamond.plot(x='carat', y='price', style='o')"
   ]
  }
 ],
 "metadata": {
  "kernelspec": {
   "display_name": "Python 3",
   "language": "python",
   "name": "python3"
  },
  "language_info": {
   "codemirror_mode": {
    "name": "ipython",
    "version": 3
   },
   "file_extension": ".py",
   "mimetype": "text/x-python",
   "name": "python",
   "nbconvert_exporter": "python",
   "pygments_lexer": "ipython3",
   "version": "3.8.5"
  }
 },
 "nbformat": 4,
 "nbformat_minor": 4
}
